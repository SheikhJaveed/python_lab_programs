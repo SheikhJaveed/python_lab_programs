{
 "cells": [
  {
   "cell_type": "code",
   "execution_count": 5,
   "id": "f35af078",
   "metadata": {},
   "outputs": [
    {
     "name": "stdout",
     "output_type": "stream",
     "text": [
      "Enter a number12\n",
      "Zero division error\n",
      "done\n"
     ]
    }
   ],
   "source": [
    "x=int(input('Enter a number'))\n",
    "dict1={'key1':'value1'}\n",
    "ls=[1,2,3]\n",
    "try:\n",
    "    x/0\n",
    "    print(y)\n",
    "    print(dict1['value2'])\n",
    "    print(ls[4])\n",
    "except ZeroDivisionError:\n",
    "    print('Zero division error')\n",
    "except NameError:\n",
    "    print('NameError')\n",
    "except KeyError:\n",
    "    print('keyError')\n",
    "except IndexError:\n",
    "    print('IndexError')\n",
    "finally:\n",
    "    print('done')"
   ]
  },
  {
   "cell_type": "code",
   "execution_count": 20,
   "id": "6831033d",
   "metadata": {},
   "outputs": [
    {
     "name": "stdout",
     "output_type": "stream",
     "text": [
      "keyError\n",
      "done\n"
     ]
    }
   ],
   "source": [
    "dict1={'key1':'value1'}\n",
    "ls=[1,2,3]\n",
    "try:\n",
    "    print(y)\n",
    "    print(dict1['value2'])\n",
    "    print(ls[4])\n",
    "except ZeroDivisionError:\n",
    "    print('Zero division error')\n",
    "except NameError:\n",
    "    print('NameError')\n",
    "except KeyError:\n",
    "    print('keyError')\n",
    "except IndexError:\n",
    "    print('IndexError')\n",
    "finally:\n",
    "    print('done')"
   ]
  },
  {
   "cell_type": "code",
   "execution_count": 14,
   "id": "3a1c6291",
   "metadata": {},
   "outputs": [
    {
     "name": "stdout",
     "output_type": "stream",
     "text": [
      "Enter the numbers\n",
      "12.4\n",
      "Value Error.\n",
      "Please enter integers only\n"
     ]
    }
   ],
   "source": [
    "try:    \n",
    "    print('Enter the numbers')\n",
    "    ls=[]\n",
    "    sum1=0\n",
    "    for i in range(5):\n",
    "        x=int(input())\n",
    "        ls.append(x)\n",
    "        sum1+=x\n",
    "    avg=sum1/5\n",
    "    print(avg)\n",
    "except ValueError:\n",
    "    print('Value Error.\\nPlease enter integers only')"
   ]
  },
  {
   "cell_type": "code",
   "execution_count": 25,
   "id": "735c2804",
   "metadata": {},
   "outputs": [
    {
     "name": "stdout",
     "output_type": "stream",
     "text": [
      "Enter the age:-1\n",
      "Not a valid age\n"
     ]
    }
   ],
   "source": [
    "try:\n",
    "    age=int(input('Enter the age:'))\n",
    "    if age>=1 and age<150:\n",
    "        if age>=18:\n",
    "            print('Eligible to Vote')\n",
    "        else:\n",
    "            print('Not eligible to vote')\n",
    "    else:\n",
    "        raise Exception('Not a valid age')\n",
    "except Exception as e:\n",
    "    print(e)"
   ]
  },
  {
   "cell_type": "code",
   "execution_count": 36,
   "id": "0d017ff6",
   "metadata": {},
   "outputs": [
    {
     "name": "stdout",
     "output_type": "stream",
     "text": [
      "Enter a number:4.5\n",
      "Square of 4.5 number is 20.25\n"
     ]
    }
   ],
   "source": [
    "sq=0\n",
    "def MySqrt():\n",
    "    try:\n",
    "        x=float(input('Enter a number:'))\n",
    "        if x>0:\n",
    "            sq=x*x\n",
    "            print(f'Square of {x} number is {sq}')\n",
    "        else:\n",
    "            raise Exception(\"Enter a positive integer\")\n",
    "    except Exception as e:\n",
    "        print(e)\n",
    "\n",
    "MySqrt()"
   ]
  },
  {
   "cell_type": "code",
   "execution_count": 1,
   "id": "6c809f28",
   "metadata": {},
   "outputs": [
    {
     "name": "stdout",
     "output_type": "stream",
     "text": [
      "Withdrawn amount: 100\n",
      "Current balance: 3900\n",
      "Deposit error: Please enter a positive value\n",
      "Customer Name: John\n",
      "Account Number: 2380\n",
      "Balance: 3900\n",
      "Account Type: Savings\n",
      "Address: Bangalore\n"
     ]
    }
   ],
   "source": [
    "class BankAccount:\n",
    "    def __init__(self, custName, accountNum, balance, typefAcc, address):\n",
    "        self.custName = custName\n",
    "        self.accountNum = accountNum\n",
    "        self.balance = balance\n",
    "        self.typefAcc = typefAcc\n",
    "        self.address = address\n",
    "\n",
    "    def withdraw(self, amount):\n",
    "        try:\n",
    "            if amount > 0:\n",
    "                if self.balance < 0 or self.balance < amount:\n",
    "                    raise Exception(\"Not enough balance\")\n",
    "                else:\n",
    "                    self.balance -= amount\n",
    "                    print('Withdrawn amount: ' + str(amount))\n",
    "                    print('Current balance: ' + str(self.balance))\n",
    "            else:\n",
    "                raise Exception(\"Please enter a positive value\")\n",
    "        except Exception as e:\n",
    "            print(\"Withdrawal error:\", e)\n",
    "\n",
    "    def deposit(self, amount):\n",
    "        try:\n",
    "            if amount > 0:\n",
    "                self.balance += amount\n",
    "                print(str(amount) + ' deposited')\n",
    "                print('Current balance: ' + str(self.balance))\n",
    "            else:\n",
    "                raise Exception('Please enter a positive value')\n",
    "        except Exception as e:\n",
    "            print(\"Deposit error:\", e)\n",
    "\n",
    "    def displayDetails(self):\n",
    "        print(\"Customer Name:\", self.custName)\n",
    "        print(\"Account Number:\", self.accountNum)\n",
    "        print(\"Balance:\", self.balance)\n",
    "        print(\"Account Type:\", self.typefAcc)\n",
    "        print(\"Address:\", self.address)\n",
    "\n",
    "\n",
    "# Example usage:\n",
    "b1 = BankAccount('John', 2380, 4000, 'Savings', 'Bangalore')\n",
    "b1.withdraw(100)   \n",
    "b1.deposit(-1)\n",
    "b1.displayDetails()\n"
   ]
  },
  {
   "cell_type": "code",
   "execution_count": null,
   "id": "743cc685",
   "metadata": {},
   "outputs": [],
   "source": []
  }
 ],
 "metadata": {
  "kernelspec": {
   "display_name": "Python 3 (ipykernel)",
   "language": "python",
   "name": "python3"
  },
  "language_info": {
   "codemirror_mode": {
    "name": "ipython",
    "version": 3
   },
   "file_extension": ".py",
   "mimetype": "text/x-python",
   "name": "python",
   "nbconvert_exporter": "python",
   "pygments_lexer": "ipython3",
   "version": "3.8.10"
  }
 },
 "nbformat": 4,
 "nbformat_minor": 5
}
